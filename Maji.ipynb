{
 "cells": [
  {
   "cell_type": "markdown",
   "metadata": {},
   "source": [
    "## Phase 3 Project Submission\n",
    "\n",
    "* Student name: Nurulain Abdi Maalim\n",
    "\n",
    "* Student pace: Part time Moringa School\n",
    "\n",
    "* Scheduled project review date/time: Friday 10th February 2023\n",
    "\n",
    "* Instructor name: Everlyne Asiko, Asha Deen, Rose Delilah and Noah Kandie"
   ]
  },
  {
   "cell_type": "markdown",
   "metadata": {},
   "source": [
    "# Pump it Up: Data Mining the Water Table\n",
    "   <img src='Man Pumping water.png' width=30%/>\n",
    "\n",
    "##                                    Tanzanian Water wells                   \n"
   ]
  },
  {
   "cell_type": "markdown",
   "metadata": {},
   "source": [
    "### Objective\n",
    "> * Build a machine learning model that accurately predicts well function in Tanzania based on a set of well characteristics.\n",
    "> * Efforts to maximize model accuracy to support Tanzania's Ministry of Water and improve access to clean water in rural areas.\n",
    "> * To optimize the model's performance on the task of ternary classification (functional, functional needs repair, non-functional),in order to make accurate predictions about the state of a well.\n",
    "> * Identify patterns or relationships in your data that can explain why some wells are functioning and some are not, and use that information to inform future well construction and maintenance.\n",
    "> * We are developing solutions that can be extended and applied to other rural communities facing similar challenges in accessing clean water. \n",
    "\n",
    "\n",
    "I am using CRISP-DM Methodology to analyse Tanzanian Water wells"
   ]
  },
  {
   "cell_type": "code",
   "execution_count": 1,
   "metadata": {},
   "outputs": [],
   "source": [
    "#Importing all the necessary libraries \n",
    "import pandas as pd\n",
    "import numpy as np\n",
    "import matplotlib.pyplot as plt\n",
    "from sklearn.preprocessing import StandardScaler\n",
    "from sklearn import preprocessing\n",
    "from sklearn.preprocessing import LabelEncoder\n",
    "from sklearn.tree import DecisionTreeClassifier\n",
    "from sklearn.model_selection import train_test_split\n",
    "from sklearn.ensemble import RandomForestClassifier\n",
    "from sklearn.metrics import accuracy_score, confusion_matrix\n",
    "import seaborn as sns\n",
    "import folium\n",
    "\n",
    "%matplotlib inline\n",
    "import warnings\n",
    "warnings.filterwarnings('ignore')"
   ]
  },
  {
   "cell_type": "code",
   "execution_count": 2,
   "metadata": {},
   "outputs": [],
   "source": [
    "#Now loading the training set values file to see what we are dealing with\n",
    "training = pd.read_csv(\"training set values.csv\")\n",
    "\n",
    "#Now loading the training set labels file to see what we are dealing with\n",
    "labels = pd.read_csv(\"training set labels.csv\")\n",
    "\n",
    "#Now loading the testing  set labels file to see what we are dealing with\n",
    "test = pd.read_csv(\"Test set values.csv\")"
   ]
  },
  {
   "cell_type": "code",
   "execution_count": 3,
   "metadata": {},
   "outputs": [
    {
     "data": {
      "text/html": [
       "<div>\n",
       "<style scoped>\n",
       "    .dataframe tbody tr th:only-of-type {\n",
       "        vertical-align: middle;\n",
       "    }\n",
       "\n",
       "    .dataframe tbody tr th {\n",
       "        vertical-align: top;\n",
       "    }\n",
       "\n",
       "    .dataframe thead th {\n",
       "        text-align: right;\n",
       "    }\n",
       "</style>\n",
       "<table border=\"1\" class=\"dataframe\">\n",
       "  <thead>\n",
       "    <tr style=\"text-align: right;\">\n",
       "      <th></th>\n",
       "      <th>id</th>\n",
       "      <th>amount_tsh</th>\n",
       "      <th>date_recorded</th>\n",
       "      <th>funder</th>\n",
       "      <th>gps_height</th>\n",
       "      <th>installer</th>\n",
       "      <th>longitude</th>\n",
       "      <th>latitude</th>\n",
       "      <th>wpt_name</th>\n",
       "      <th>num_private</th>\n",
       "      <th>...</th>\n",
       "      <th>payment_type</th>\n",
       "      <th>water_quality</th>\n",
       "      <th>quality_group</th>\n",
       "      <th>quantity</th>\n",
       "      <th>quantity_group</th>\n",
       "      <th>source</th>\n",
       "      <th>source_type</th>\n",
       "      <th>source_class</th>\n",
       "      <th>waterpoint_type</th>\n",
       "      <th>waterpoint_type_group</th>\n",
       "    </tr>\n",
       "  </thead>\n",
       "  <tbody>\n",
       "    <tr>\n",
       "      <th>0</th>\n",
       "      <td>69572</td>\n",
       "      <td>6000.0</td>\n",
       "      <td>14/03/2011</td>\n",
       "      <td>Roman</td>\n",
       "      <td>1390</td>\n",
       "      <td>Roman</td>\n",
       "      <td>34.938093</td>\n",
       "      <td>-9.856322</td>\n",
       "      <td>none</td>\n",
       "      <td>0</td>\n",
       "      <td>...</td>\n",
       "      <td>annually</td>\n",
       "      <td>soft</td>\n",
       "      <td>good</td>\n",
       "      <td>enough</td>\n",
       "      <td>enough</td>\n",
       "      <td>spring</td>\n",
       "      <td>spring</td>\n",
       "      <td>groundwater</td>\n",
       "      <td>communal standpipe</td>\n",
       "      <td>communal standpipe</td>\n",
       "    </tr>\n",
       "    <tr>\n",
       "      <th>1</th>\n",
       "      <td>8776</td>\n",
       "      <td>0.0</td>\n",
       "      <td>06/03/2013</td>\n",
       "      <td>Grumeti</td>\n",
       "      <td>1399</td>\n",
       "      <td>GRUMETI</td>\n",
       "      <td>34.698766</td>\n",
       "      <td>-2.147466</td>\n",
       "      <td>Zahanati</td>\n",
       "      <td>0</td>\n",
       "      <td>...</td>\n",
       "      <td>never pay</td>\n",
       "      <td>soft</td>\n",
       "      <td>good</td>\n",
       "      <td>insufficient</td>\n",
       "      <td>insufficient</td>\n",
       "      <td>rainwater harvesting</td>\n",
       "      <td>rainwater harvesting</td>\n",
       "      <td>surface</td>\n",
       "      <td>communal standpipe</td>\n",
       "      <td>communal standpipe</td>\n",
       "    </tr>\n",
       "    <tr>\n",
       "      <th>2</th>\n",
       "      <td>34310</td>\n",
       "      <td>25.0</td>\n",
       "      <td>25/02/2013</td>\n",
       "      <td>Lottery Club</td>\n",
       "      <td>686</td>\n",
       "      <td>World vision</td>\n",
       "      <td>37.460664</td>\n",
       "      <td>-3.821329</td>\n",
       "      <td>Kwa Mahundi</td>\n",
       "      <td>0</td>\n",
       "      <td>...</td>\n",
       "      <td>per bucket</td>\n",
       "      <td>soft</td>\n",
       "      <td>good</td>\n",
       "      <td>enough</td>\n",
       "      <td>enough</td>\n",
       "      <td>dam</td>\n",
       "      <td>dam</td>\n",
       "      <td>surface</td>\n",
       "      <td>communal standpipe multiple</td>\n",
       "      <td>communal standpipe</td>\n",
       "    </tr>\n",
       "    <tr>\n",
       "      <th>3</th>\n",
       "      <td>67743</td>\n",
       "      <td>0.0</td>\n",
       "      <td>28/01/2013</td>\n",
       "      <td>Unicef</td>\n",
       "      <td>263</td>\n",
       "      <td>UNICEF</td>\n",
       "      <td>38.486161</td>\n",
       "      <td>-11.155298</td>\n",
       "      <td>Zahanati Ya Nanyumbu</td>\n",
       "      <td>0</td>\n",
       "      <td>...</td>\n",
       "      <td>never pay</td>\n",
       "      <td>soft</td>\n",
       "      <td>good</td>\n",
       "      <td>dry</td>\n",
       "      <td>dry</td>\n",
       "      <td>machine dbh</td>\n",
       "      <td>borehole</td>\n",
       "      <td>groundwater</td>\n",
       "      <td>communal standpipe multiple</td>\n",
       "      <td>communal standpipe</td>\n",
       "    </tr>\n",
       "    <tr>\n",
       "      <th>4</th>\n",
       "      <td>19728</td>\n",
       "      <td>0.0</td>\n",
       "      <td>13/07/2011</td>\n",
       "      <td>Action In A</td>\n",
       "      <td>0</td>\n",
       "      <td>Artisan</td>\n",
       "      <td>31.130847</td>\n",
       "      <td>-1.825359</td>\n",
       "      <td>Shuleni</td>\n",
       "      <td>0</td>\n",
       "      <td>...</td>\n",
       "      <td>never pay</td>\n",
       "      <td>soft</td>\n",
       "      <td>good</td>\n",
       "      <td>seasonal</td>\n",
       "      <td>seasonal</td>\n",
       "      <td>rainwater harvesting</td>\n",
       "      <td>rainwater harvesting</td>\n",
       "      <td>surface</td>\n",
       "      <td>communal standpipe</td>\n",
       "      <td>communal standpipe</td>\n",
       "    </tr>\n",
       "  </tbody>\n",
       "</table>\n",
       "<p>5 rows × 40 columns</p>\n",
       "</div>"
      ],
      "text/plain": [
       "      id  amount_tsh date_recorded        funder  gps_height     installer  \\\n",
       "0  69572      6000.0    14/03/2011         Roman        1390         Roman   \n",
       "1   8776         0.0    06/03/2013       Grumeti        1399       GRUMETI   \n",
       "2  34310        25.0    25/02/2013  Lottery Club         686  World vision   \n",
       "3  67743         0.0    28/01/2013        Unicef         263        UNICEF   \n",
       "4  19728         0.0    13/07/2011   Action In A           0       Artisan   \n",
       "\n",
       "   longitude   latitude              wpt_name  num_private  ... payment_type  \\\n",
       "0  34.938093  -9.856322                  none            0  ...     annually   \n",
       "1  34.698766  -2.147466              Zahanati            0  ...    never pay   \n",
       "2  37.460664  -3.821329           Kwa Mahundi            0  ...   per bucket   \n",
       "3  38.486161 -11.155298  Zahanati Ya Nanyumbu            0  ...    never pay   \n",
       "4  31.130847  -1.825359               Shuleni            0  ...    never pay   \n",
       "\n",
       "  water_quality quality_group      quantity  quantity_group  \\\n",
       "0          soft          good        enough          enough   \n",
       "1          soft          good  insufficient    insufficient   \n",
       "2          soft          good        enough          enough   \n",
       "3          soft          good           dry             dry   \n",
       "4          soft          good      seasonal        seasonal   \n",
       "\n",
       "                 source           source_type  source_class  \\\n",
       "0                spring                spring   groundwater   \n",
       "1  rainwater harvesting  rainwater harvesting       surface   \n",
       "2                   dam                   dam       surface   \n",
       "3           machine dbh              borehole   groundwater   \n",
       "4  rainwater harvesting  rainwater harvesting       surface   \n",
       "\n",
       "               waterpoint_type waterpoint_type_group  \n",
       "0           communal standpipe    communal standpipe  \n",
       "1           communal standpipe    communal standpipe  \n",
       "2  communal standpipe multiple    communal standpipe  \n",
       "3  communal standpipe multiple    communal standpipe  \n",
       "4           communal standpipe    communal standpipe  \n",
       "\n",
       "[5 rows x 40 columns]"
      ]
     },
     "execution_count": 3,
     "metadata": {},
     "output_type": "execute_result"
    }
   ],
   "source": [
    "#lets see what we have here by checking the first few rows and columns of the datasets\n",
    "training.head()"
   ]
  },
  {
   "cell_type": "code",
   "execution_count": 4,
   "metadata": {},
   "outputs": [
    {
     "data": {
      "text/html": [
       "<div>\n",
       "<style scoped>\n",
       "    .dataframe tbody tr th:only-of-type {\n",
       "        vertical-align: middle;\n",
       "    }\n",
       "\n",
       "    .dataframe tbody tr th {\n",
       "        vertical-align: top;\n",
       "    }\n",
       "\n",
       "    .dataframe thead th {\n",
       "        text-align: right;\n",
       "    }\n",
       "</style>\n",
       "<table border=\"1\" class=\"dataframe\">\n",
       "  <thead>\n",
       "    <tr style=\"text-align: right;\">\n",
       "      <th></th>\n",
       "      <th>id</th>\n",
       "      <th>status_group</th>\n",
       "    </tr>\n",
       "  </thead>\n",
       "  <tbody>\n",
       "    <tr>\n",
       "      <th>0</th>\n",
       "      <td>69572</td>\n",
       "      <td>functional</td>\n",
       "    </tr>\n",
       "    <tr>\n",
       "      <th>1</th>\n",
       "      <td>8776</td>\n",
       "      <td>functional</td>\n",
       "    </tr>\n",
       "    <tr>\n",
       "      <th>2</th>\n",
       "      <td>34310</td>\n",
       "      <td>functional</td>\n",
       "    </tr>\n",
       "    <tr>\n",
       "      <th>3</th>\n",
       "      <td>67743</td>\n",
       "      <td>non functional</td>\n",
       "    </tr>\n",
       "    <tr>\n",
       "      <th>4</th>\n",
       "      <td>19728</td>\n",
       "      <td>functional</td>\n",
       "    </tr>\n",
       "  </tbody>\n",
       "</table>\n",
       "</div>"
      ],
      "text/plain": [
       "      id    status_group\n",
       "0  69572      functional\n",
       "1   8776      functional\n",
       "2  34310      functional\n",
       "3  67743  non functional\n",
       "4  19728      functional"
      ]
     },
     "execution_count": 4,
     "metadata": {},
     "output_type": "execute_result"
    }
   ],
   "source": [
    "labels.head()"
   ]
  },
  {
   "cell_type": "code",
   "execution_count": 5,
   "metadata": {},
   "outputs": [
    {
     "data": {
      "text/html": [
       "<div>\n",
       "<style scoped>\n",
       "    .dataframe tbody tr th:only-of-type {\n",
       "        vertical-align: middle;\n",
       "    }\n",
       "\n",
       "    .dataframe tbody tr th {\n",
       "        vertical-align: top;\n",
       "    }\n",
       "\n",
       "    .dataframe thead th {\n",
       "        text-align: right;\n",
       "    }\n",
       "</style>\n",
       "<table border=\"1\" class=\"dataframe\">\n",
       "  <thead>\n",
       "    <tr style=\"text-align: right;\">\n",
       "      <th></th>\n",
       "      <th>id</th>\n",
       "      <th>amount_tsh</th>\n",
       "      <th>date_recorded</th>\n",
       "      <th>funder</th>\n",
       "      <th>gps_height</th>\n",
       "      <th>installer</th>\n",
       "      <th>longitude</th>\n",
       "      <th>latitude</th>\n",
       "      <th>wpt_name</th>\n",
       "      <th>num_private</th>\n",
       "      <th>...</th>\n",
       "      <th>payment_type</th>\n",
       "      <th>water_quality</th>\n",
       "      <th>quality_group</th>\n",
       "      <th>quantity</th>\n",
       "      <th>quantity_group</th>\n",
       "      <th>source</th>\n",
       "      <th>source_type</th>\n",
       "      <th>source_class</th>\n",
       "      <th>waterpoint_type</th>\n",
       "      <th>waterpoint_type_group</th>\n",
       "    </tr>\n",
       "  </thead>\n",
       "  <tbody>\n",
       "    <tr>\n",
       "      <th>0</th>\n",
       "      <td>50785</td>\n",
       "      <td>0.0</td>\n",
       "      <td>04/02/2013</td>\n",
       "      <td>Dmdd</td>\n",
       "      <td>1996</td>\n",
       "      <td>DMDD</td>\n",
       "      <td>35.290799</td>\n",
       "      <td>-4.059696</td>\n",
       "      <td>Dinamu Secondary School</td>\n",
       "      <td>0</td>\n",
       "      <td>...</td>\n",
       "      <td>never pay</td>\n",
       "      <td>soft</td>\n",
       "      <td>good</td>\n",
       "      <td>seasonal</td>\n",
       "      <td>seasonal</td>\n",
       "      <td>rainwater harvesting</td>\n",
       "      <td>rainwater harvesting</td>\n",
       "      <td>surface</td>\n",
       "      <td>other</td>\n",
       "      <td>other</td>\n",
       "    </tr>\n",
       "    <tr>\n",
       "      <th>1</th>\n",
       "      <td>51630</td>\n",
       "      <td>0.0</td>\n",
       "      <td>04/02/2013</td>\n",
       "      <td>Government Of Tanzania</td>\n",
       "      <td>1569</td>\n",
       "      <td>DWE</td>\n",
       "      <td>36.656709</td>\n",
       "      <td>-3.309214</td>\n",
       "      <td>Kimnyak</td>\n",
       "      <td>0</td>\n",
       "      <td>...</td>\n",
       "      <td>never pay</td>\n",
       "      <td>soft</td>\n",
       "      <td>good</td>\n",
       "      <td>insufficient</td>\n",
       "      <td>insufficient</td>\n",
       "      <td>spring</td>\n",
       "      <td>spring</td>\n",
       "      <td>groundwater</td>\n",
       "      <td>communal standpipe</td>\n",
       "      <td>communal standpipe</td>\n",
       "    </tr>\n",
       "    <tr>\n",
       "      <th>2</th>\n",
       "      <td>17168</td>\n",
       "      <td>0.0</td>\n",
       "      <td>01/02/2013</td>\n",
       "      <td>NaN</td>\n",
       "      <td>1567</td>\n",
       "      <td>NaN</td>\n",
       "      <td>34.767863</td>\n",
       "      <td>-5.004344</td>\n",
       "      <td>Puma Secondary</td>\n",
       "      <td>0</td>\n",
       "      <td>...</td>\n",
       "      <td>never pay</td>\n",
       "      <td>soft</td>\n",
       "      <td>good</td>\n",
       "      <td>insufficient</td>\n",
       "      <td>insufficient</td>\n",
       "      <td>rainwater harvesting</td>\n",
       "      <td>rainwater harvesting</td>\n",
       "      <td>surface</td>\n",
       "      <td>other</td>\n",
       "      <td>other</td>\n",
       "    </tr>\n",
       "    <tr>\n",
       "      <th>3</th>\n",
       "      <td>45559</td>\n",
       "      <td>0.0</td>\n",
       "      <td>22/01/2013</td>\n",
       "      <td>Finn Water</td>\n",
       "      <td>267</td>\n",
       "      <td>FINN WATER</td>\n",
       "      <td>38.058046</td>\n",
       "      <td>-9.418672</td>\n",
       "      <td>Kwa Mzee Pange</td>\n",
       "      <td>0</td>\n",
       "      <td>...</td>\n",
       "      <td>unknown</td>\n",
       "      <td>soft</td>\n",
       "      <td>good</td>\n",
       "      <td>dry</td>\n",
       "      <td>dry</td>\n",
       "      <td>shallow well</td>\n",
       "      <td>shallow well</td>\n",
       "      <td>groundwater</td>\n",
       "      <td>other</td>\n",
       "      <td>other</td>\n",
       "    </tr>\n",
       "    <tr>\n",
       "      <th>4</th>\n",
       "      <td>49871</td>\n",
       "      <td>500.0</td>\n",
       "      <td>27/03/2013</td>\n",
       "      <td>Bruder</td>\n",
       "      <td>1260</td>\n",
       "      <td>BRUDER</td>\n",
       "      <td>35.006123</td>\n",
       "      <td>-10.950412</td>\n",
       "      <td>Kwa Mzee Turuka</td>\n",
       "      <td>0</td>\n",
       "      <td>...</td>\n",
       "      <td>monthly</td>\n",
       "      <td>soft</td>\n",
       "      <td>good</td>\n",
       "      <td>enough</td>\n",
       "      <td>enough</td>\n",
       "      <td>spring</td>\n",
       "      <td>spring</td>\n",
       "      <td>groundwater</td>\n",
       "      <td>communal standpipe</td>\n",
       "      <td>communal standpipe</td>\n",
       "    </tr>\n",
       "  </tbody>\n",
       "</table>\n",
       "<p>5 rows × 40 columns</p>\n",
       "</div>"
      ],
      "text/plain": [
       "      id  amount_tsh date_recorded                  funder  gps_height  \\\n",
       "0  50785         0.0    04/02/2013                    Dmdd        1996   \n",
       "1  51630         0.0    04/02/2013  Government Of Tanzania        1569   \n",
       "2  17168         0.0    01/02/2013                     NaN        1567   \n",
       "3  45559         0.0    22/01/2013              Finn Water         267   \n",
       "4  49871       500.0    27/03/2013                  Bruder        1260   \n",
       "\n",
       "    installer  longitude   latitude                 wpt_name  num_private  \\\n",
       "0        DMDD  35.290799  -4.059696  Dinamu Secondary School            0   \n",
       "1         DWE  36.656709  -3.309214                  Kimnyak            0   \n",
       "2         NaN  34.767863  -5.004344           Puma Secondary            0   \n",
       "3  FINN WATER  38.058046  -9.418672           Kwa Mzee Pange            0   \n",
       "4      BRUDER  35.006123 -10.950412          Kwa Mzee Turuka            0   \n",
       "\n",
       "   ... payment_type water_quality quality_group      quantity  quantity_group  \\\n",
       "0  ...    never pay          soft          good      seasonal        seasonal   \n",
       "1  ...    never pay          soft          good  insufficient    insufficient   \n",
       "2  ...    never pay          soft          good  insufficient    insufficient   \n",
       "3  ...      unknown          soft          good           dry             dry   \n",
       "4  ...      monthly          soft          good        enough          enough   \n",
       "\n",
       "                 source           source_type  source_class  \\\n",
       "0  rainwater harvesting  rainwater harvesting       surface   \n",
       "1                spring                spring   groundwater   \n",
       "2  rainwater harvesting  rainwater harvesting       surface   \n",
       "3          shallow well          shallow well   groundwater   \n",
       "4                spring                spring   groundwater   \n",
       "\n",
       "      waterpoint_type waterpoint_type_group  \n",
       "0               other                 other  \n",
       "1  communal standpipe    communal standpipe  \n",
       "2               other                 other  \n",
       "3               other                 other  \n",
       "4  communal standpipe    communal standpipe  \n",
       "\n",
       "[5 rows x 40 columns]"
      ]
     },
     "execution_count": 5,
     "metadata": {},
     "output_type": "execute_result"
    }
   ],
   "source": [
    "#Now loading the testing set values file to see what we are dealing with\n",
    "test.head()"
   ]
  },
  {
   "cell_type": "code",
   "execution_count": 6,
   "metadata": {},
   "outputs": [
    {
     "name": "stdout",
     "output_type": "stream",
     "text": [
      "<class 'pandas.core.frame.DataFrame'>\n",
      "RangeIndex: 59400 entries, 0 to 59399\n",
      "Data columns (total 40 columns):\n",
      " #   Column                 Non-Null Count  Dtype  \n",
      "---  ------                 --------------  -----  \n",
      " 0   id                     59400 non-null  int64  \n",
      " 1   amount_tsh             59400 non-null  float64\n",
      " 2   date_recorded          59400 non-null  object \n",
      " 3   funder                 55765 non-null  object \n",
      " 4   gps_height             59400 non-null  int64  \n",
      " 5   installer              55745 non-null  object \n",
      " 6   longitude              59400 non-null  float64\n",
      " 7   latitude               59400 non-null  float64\n",
      " 8   wpt_name               59400 non-null  object \n",
      " 9   num_private            59400 non-null  int64  \n",
      " 10  basin                  59400 non-null  object \n",
      " 11  subvillage             59029 non-null  object \n",
      " 12  region                 59400 non-null  object \n",
      " 13  region_code            59400 non-null  int64  \n",
      " 14  district_code          59400 non-null  int64  \n",
      " 15  lga                    59400 non-null  object \n",
      " 16  ward                   59400 non-null  object \n",
      " 17  population             59400 non-null  int64  \n",
      " 18  public_meeting         56066 non-null  object \n",
      " 19  recorded_by            59400 non-null  object \n",
      " 20  scheme_management      55523 non-null  object \n",
      " 21  scheme_name            31234 non-null  object \n",
      " 22  permit                 56344 non-null  object \n",
      " 23  construction_year      59400 non-null  int64  \n",
      " 24  extraction_type        59400 non-null  object \n",
      " 25  extraction_type_group  59400 non-null  object \n",
      " 26  extraction_type_class  59400 non-null  object \n",
      " 27  management             59400 non-null  object \n",
      " 28  management_group       59400 non-null  object \n",
      " 29  payment                59400 non-null  object \n",
      " 30  payment_type           59400 non-null  object \n",
      " 31  water_quality          59400 non-null  object \n",
      " 32  quality_group          59400 non-null  object \n",
      " 33  quantity               59400 non-null  object \n",
      " 34  quantity_group         59400 non-null  object \n",
      " 35  source                 59400 non-null  object \n",
      " 36  source_type            59400 non-null  object \n",
      " 37  source_class           59400 non-null  object \n",
      " 38  waterpoint_type        59400 non-null  object \n",
      " 39  waterpoint_type_group  59400 non-null  object \n",
      "dtypes: float64(3), int64(7), object(30)\n",
      "memory usage: 18.1+ MB\n"
     ]
    }
   ],
   "source": [
    "#lets see the features of our dataset \n",
    "training.info()"
   ]
  },
  {
   "cell_type": "markdown",
   "metadata": {},
   "source": [
    "#### \n",
    "We have some missing values in some rows, lets keep checking on the other files then we will decide on what to do with the missing Data."
   ]
  },
  {
   "cell_type": "code",
   "execution_count": 7,
   "metadata": {},
   "outputs": [
    {
     "data": {
      "text/plain": [
       "(59400, 40)"
      ]
     },
     "execution_count": 7,
     "metadata": {},
     "output_type": "execute_result"
    }
   ],
   "source": [
    "#What's the shape of our training data?\n",
    "training.shape"
   ]
  },
  {
   "cell_type": "code",
   "execution_count": 8,
   "metadata": {
    "scrolled": true
   },
   "outputs": [
    {
     "name": "stdout",
     "output_type": "stream",
     "text": [
      "<class 'pandas.core.frame.DataFrame'>\n",
      "RangeIndex: 59400 entries, 0 to 59399\n",
      "Data columns (total 2 columns):\n",
      " #   Column        Non-Null Count  Dtype \n",
      "---  ------        --------------  ----- \n",
      " 0   id            59400 non-null  int64 \n",
      " 1   status_group  59400 non-null  object\n",
      "dtypes: int64(1), object(1)\n",
      "memory usage: 928.2+ KB\n"
     ]
    }
   ],
   "source": [
    "#Lets see what kind of features we are dealing with in the training labels csv file \n",
    "labels.info()"
   ]
  },
  {
   "cell_type": "markdown",
   "metadata": {},
   "source": [
    "### Observation\n",
    "I should probably merge these two dataframes(Training and labels) because the target variable I am trying to get a hold of and predict is stored in the training set labels.csv file, while the characteristics of the wells are stored in the training set values.csv file. \n",
    "Merging the two dataframes into a single dataframe makes it easier to work with the data, since all of the data is in one place.\n",
    "Now that we are on the same page! lets do this!"
   ]
  },
  {
   "cell_type": "code",
   "execution_count": 9,
   "metadata": {
    "scrolled": true
   },
   "outputs": [
    {
     "data": {
      "text/html": [
       "<div>\n",
       "<style scoped>\n",
       "    .dataframe tbody tr th:only-of-type {\n",
       "        vertical-align: middle;\n",
       "    }\n",
       "\n",
       "    .dataframe tbody tr th {\n",
       "        vertical-align: top;\n",
       "    }\n",
       "\n",
       "    .dataframe thead th {\n",
       "        text-align: right;\n",
       "    }\n",
       "</style>\n",
       "<table border=\"1\" class=\"dataframe\">\n",
       "  <thead>\n",
       "    <tr style=\"text-align: right;\">\n",
       "      <th></th>\n",
       "      <th>id</th>\n",
       "      <th>amount_tsh</th>\n",
       "      <th>date_recorded</th>\n",
       "      <th>funder</th>\n",
       "      <th>gps_height</th>\n",
       "      <th>installer</th>\n",
       "      <th>longitude</th>\n",
       "      <th>latitude</th>\n",
       "      <th>wpt_name</th>\n",
       "      <th>num_private</th>\n",
       "      <th>...</th>\n",
       "      <th>water_quality</th>\n",
       "      <th>quality_group</th>\n",
       "      <th>quantity</th>\n",
       "      <th>quantity_group</th>\n",
       "      <th>source</th>\n",
       "      <th>source_type</th>\n",
       "      <th>source_class</th>\n",
       "      <th>waterpoint_type</th>\n",
       "      <th>waterpoint_type_group</th>\n",
       "      <th>status_group</th>\n",
       "    </tr>\n",
       "  </thead>\n",
       "  <tbody>\n",
       "    <tr>\n",
       "      <th>0</th>\n",
       "      <td>69572</td>\n",
       "      <td>6000.0</td>\n",
       "      <td>14/03/2011</td>\n",
       "      <td>Roman</td>\n",
       "      <td>1390</td>\n",
       "      <td>Roman</td>\n",
       "      <td>34.938093</td>\n",
       "      <td>-9.856322</td>\n",
       "      <td>none</td>\n",
       "      <td>0</td>\n",
       "      <td>...</td>\n",
       "      <td>soft</td>\n",
       "      <td>good</td>\n",
       "      <td>enough</td>\n",
       "      <td>enough</td>\n",
       "      <td>spring</td>\n",
       "      <td>spring</td>\n",
       "      <td>groundwater</td>\n",
       "      <td>communal standpipe</td>\n",
       "      <td>communal standpipe</td>\n",
       "      <td>functional</td>\n",
       "    </tr>\n",
       "    <tr>\n",
       "      <th>1</th>\n",
       "      <td>8776</td>\n",
       "      <td>0.0</td>\n",
       "      <td>06/03/2013</td>\n",
       "      <td>Grumeti</td>\n",
       "      <td>1399</td>\n",
       "      <td>GRUMETI</td>\n",
       "      <td>34.698766</td>\n",
       "      <td>-2.147466</td>\n",
       "      <td>Zahanati</td>\n",
       "      <td>0</td>\n",
       "      <td>...</td>\n",
       "      <td>soft</td>\n",
       "      <td>good</td>\n",
       "      <td>insufficient</td>\n",
       "      <td>insufficient</td>\n",
       "      <td>rainwater harvesting</td>\n",
       "      <td>rainwater harvesting</td>\n",
       "      <td>surface</td>\n",
       "      <td>communal standpipe</td>\n",
       "      <td>communal standpipe</td>\n",
       "      <td>functional</td>\n",
       "    </tr>\n",
       "    <tr>\n",
       "      <th>2</th>\n",
       "      <td>34310</td>\n",
       "      <td>25.0</td>\n",
       "      <td>25/02/2013</td>\n",
       "      <td>Lottery Club</td>\n",
       "      <td>686</td>\n",
       "      <td>World vision</td>\n",
       "      <td>37.460664</td>\n",
       "      <td>-3.821329</td>\n",
       "      <td>Kwa Mahundi</td>\n",
       "      <td>0</td>\n",
       "      <td>...</td>\n",
       "      <td>soft</td>\n",
       "      <td>good</td>\n",
       "      <td>enough</td>\n",
       "      <td>enough</td>\n",
       "      <td>dam</td>\n",
       "      <td>dam</td>\n",
       "      <td>surface</td>\n",
       "      <td>communal standpipe multiple</td>\n",
       "      <td>communal standpipe</td>\n",
       "      <td>functional</td>\n",
       "    </tr>\n",
       "    <tr>\n",
       "      <th>3</th>\n",
       "      <td>67743</td>\n",
       "      <td>0.0</td>\n",
       "      <td>28/01/2013</td>\n",
       "      <td>Unicef</td>\n",
       "      <td>263</td>\n",
       "      <td>UNICEF</td>\n",
       "      <td>38.486161</td>\n",
       "      <td>-11.155298</td>\n",
       "      <td>Zahanati Ya Nanyumbu</td>\n",
       "      <td>0</td>\n",
       "      <td>...</td>\n",
       "      <td>soft</td>\n",
       "      <td>good</td>\n",
       "      <td>dry</td>\n",
       "      <td>dry</td>\n",
       "      <td>machine dbh</td>\n",
       "      <td>borehole</td>\n",
       "      <td>groundwater</td>\n",
       "      <td>communal standpipe multiple</td>\n",
       "      <td>communal standpipe</td>\n",
       "      <td>non functional</td>\n",
       "    </tr>\n",
       "    <tr>\n",
       "      <th>4</th>\n",
       "      <td>19728</td>\n",
       "      <td>0.0</td>\n",
       "      <td>13/07/2011</td>\n",
       "      <td>Action In A</td>\n",
       "      <td>0</td>\n",
       "      <td>Artisan</td>\n",
       "      <td>31.130847</td>\n",
       "      <td>-1.825359</td>\n",
       "      <td>Shuleni</td>\n",
       "      <td>0</td>\n",
       "      <td>...</td>\n",
       "      <td>soft</td>\n",
       "      <td>good</td>\n",
       "      <td>seasonal</td>\n",
       "      <td>seasonal</td>\n",
       "      <td>rainwater harvesting</td>\n",
       "      <td>rainwater harvesting</td>\n",
       "      <td>surface</td>\n",
       "      <td>communal standpipe</td>\n",
       "      <td>communal standpipe</td>\n",
       "      <td>functional</td>\n",
       "    </tr>\n",
       "  </tbody>\n",
       "</table>\n",
       "<p>5 rows × 41 columns</p>\n",
       "</div>"
      ],
      "text/plain": [
       "      id  amount_tsh date_recorded        funder  gps_height     installer  \\\n",
       "0  69572      6000.0    14/03/2011         Roman        1390         Roman   \n",
       "1   8776         0.0    06/03/2013       Grumeti        1399       GRUMETI   \n",
       "2  34310        25.0    25/02/2013  Lottery Club         686  World vision   \n",
       "3  67743         0.0    28/01/2013        Unicef         263        UNICEF   \n",
       "4  19728         0.0    13/07/2011   Action In A           0       Artisan   \n",
       "\n",
       "   longitude   latitude              wpt_name  num_private  ... water_quality  \\\n",
       "0  34.938093  -9.856322                  none            0  ...          soft   \n",
       "1  34.698766  -2.147466              Zahanati            0  ...          soft   \n",
       "2  37.460664  -3.821329           Kwa Mahundi            0  ...          soft   \n",
       "3  38.486161 -11.155298  Zahanati Ya Nanyumbu            0  ...          soft   \n",
       "4  31.130847  -1.825359               Shuleni            0  ...          soft   \n",
       "\n",
       "  quality_group      quantity  quantity_group                source  \\\n",
       "0          good        enough          enough                spring   \n",
       "1          good  insufficient    insufficient  rainwater harvesting   \n",
       "2          good        enough          enough                   dam   \n",
       "3          good           dry             dry           machine dbh   \n",
       "4          good      seasonal        seasonal  rainwater harvesting   \n",
       "\n",
       "            source_type source_class              waterpoint_type  \\\n",
       "0                spring  groundwater           communal standpipe   \n",
       "1  rainwater harvesting      surface           communal standpipe   \n",
       "2                   dam      surface  communal standpipe multiple   \n",
       "3              borehole  groundwater  communal standpipe multiple   \n",
       "4  rainwater harvesting      surface           communal standpipe   \n",
       "\n",
       "  waterpoint_type_group    status_group  \n",
       "0    communal standpipe      functional  \n",
       "1    communal standpipe      functional  \n",
       "2    communal standpipe      functional  \n",
       "3    communal standpipe  non functional  \n",
       "4    communal standpipe      functional  \n",
       "\n",
       "[5 rows x 41 columns]"
      ]
     },
     "execution_count": 9,
     "metadata": {},
     "output_type": "execute_result"
    }
   ],
   "source": [
    "# Merging the training set labels and training set values dataframes using the ID column\n",
    "training_data= pd.merge(training,labels, on=\"id\")\n",
    "training_data.head()"
   ]
  },
  {
   "cell_type": "markdown",
   "metadata": {},
   "source": [
    "## Dealing with Missing Values"
   ]
  },
  {
   "cell_type": "code",
   "execution_count": 10,
   "metadata": {},
   "outputs": [
    {
     "name": "stdout",
     "output_type": "stream",
     "text": [
      "<class 'pandas.core.frame.DataFrame'>\n",
      "Int64Index: 59400 entries, 0 to 59399\n",
      "Data columns (total 41 columns):\n",
      " #   Column                 Non-Null Count  Dtype  \n",
      "---  ------                 --------------  -----  \n",
      " 0   id                     59400 non-null  int64  \n",
      " 1   amount_tsh             59400 non-null  float64\n",
      " 2   date_recorded          59400 non-null  object \n",
      " 3   funder                 55765 non-null  object \n",
      " 4   gps_height             59400 non-null  int64  \n",
      " 5   installer              55745 non-null  object \n",
      " 6   longitude              59400 non-null  float64\n",
      " 7   latitude               59400 non-null  float64\n",
      " 8   wpt_name               59400 non-null  object \n",
      " 9   num_private            59400 non-null  int64  \n",
      " 10  basin                  59400 non-null  object \n",
      " 11  subvillage             59029 non-null  object \n",
      " 12  region                 59400 non-null  object \n",
      " 13  region_code            59400 non-null  int64  \n",
      " 14  district_code          59400 non-null  int64  \n",
      " 15  lga                    59400 non-null  object \n",
      " 16  ward                   59400 non-null  object \n",
      " 17  population             59400 non-null  int64  \n",
      " 18  public_meeting         56066 non-null  object \n",
      " 19  recorded_by            59400 non-null  object \n",
      " 20  scheme_management      55523 non-null  object \n",
      " 21  scheme_name            31234 non-null  object \n",
      " 22  permit                 56344 non-null  object \n",
      " 23  construction_year      59400 non-null  int64  \n",
      " 24  extraction_type        59400 non-null  object \n",
      " 25  extraction_type_group  59400 non-null  object \n",
      " 26  extraction_type_class  59400 non-null  object \n",
      " 27  management             59400 non-null  object \n",
      " 28  management_group       59400 non-null  object \n",
      " 29  payment                59400 non-null  object \n",
      " 30  payment_type           59400 non-null  object \n",
      " 31  water_quality          59400 non-null  object \n",
      " 32  quality_group          59400 non-null  object \n",
      " 33  quantity               59400 non-null  object \n",
      " 34  quantity_group         59400 non-null  object \n",
      " 35  source                 59400 non-null  object \n",
      " 36  source_type            59400 non-null  object \n",
      " 37  source_class           59400 non-null  object \n",
      " 38  waterpoint_type        59400 non-null  object \n",
      " 39  waterpoint_type_group  59400 non-null  object \n",
      " 40  status_group           59400 non-null  object \n",
      "dtypes: float64(3), int64(7), object(31)\n",
      "memory usage: 19.0+ MB\n"
     ]
    }
   ],
   "source": [
    "#lets see what our data now looks like\n",
    "training_data.info()"
   ]
  },
  {
   "cell_type": "code",
   "execution_count": 11,
   "metadata": {},
   "outputs": [
    {
     "data": {
      "text/plain": [
       "0"
      ]
     },
     "execution_count": 11,
     "metadata": {},
     "output_type": "execute_result"
    }
   ],
   "source": [
    "#checking for duplicates in our data\n",
    "training_data.duplicated().sum()"
   ]
  },
  {
   "cell_type": "code",
   "execution_count": 12,
   "metadata": {
    "scrolled": true
   },
   "outputs": [
    {
     "data": {
      "text/plain": [
       "id                           0\n",
       "amount_tsh                   0\n",
       "date_recorded                0\n",
       "funder                    3635\n",
       "gps_height                   0\n",
       "installer                 3655\n",
       "longitude                    0\n",
       "latitude                     0\n",
       "wpt_name                     0\n",
       "num_private                  0\n",
       "basin                        0\n",
       "subvillage                 371\n",
       "region                       0\n",
       "region_code                  0\n",
       "district_code                0\n",
       "lga                          0\n",
       "ward                         0\n",
       "population                   0\n",
       "public_meeting            3334\n",
       "recorded_by                  0\n",
       "scheme_management         3877\n",
       "scheme_name              28166\n",
       "permit                    3056\n",
       "construction_year            0\n",
       "extraction_type              0\n",
       "extraction_type_group        0\n",
       "extraction_type_class        0\n",
       "management                   0\n",
       "management_group             0\n",
       "payment                      0\n",
       "payment_type                 0\n",
       "water_quality                0\n",
       "quality_group                0\n",
       "quantity                     0\n",
       "quantity_group               0\n",
       "source                       0\n",
       "source_type                  0\n",
       "source_class                 0\n",
       "waterpoint_type              0\n",
       "waterpoint_type_group        0\n",
       "status_group                 0\n",
       "dtype: int64"
      ]
     },
     "execution_count": 12,
     "metadata": {},
     "output_type": "execute_result"
    }
   ],
   "source": [
    "#seems like we have a bunch of missing values lets take a look them closely\n",
    "training_data.isnull().sum()"
   ]
  },
  {
   "cell_type": "code",
   "execution_count": 13,
   "metadata": {
    "scrolled": true
   },
   "outputs": [
    {
     "data": {
      "text/plain": [
       "id                          0\n",
       "amount_tsh                  0\n",
       "date_recorded               0\n",
       "funder                    869\n",
       "gps_height                  0\n",
       "installer                 877\n",
       "longitude                   0\n",
       "latitude                    0\n",
       "wpt_name                    0\n",
       "num_private                 0\n",
       "basin                       0\n",
       "subvillage                 99\n",
       "region                      0\n",
       "region_code                 0\n",
       "district_code               0\n",
       "lga                         0\n",
       "ward                        0\n",
       "population                  0\n",
       "public_meeting            821\n",
       "recorded_by                 0\n",
       "scheme_management         969\n",
       "scheme_name              7092\n",
       "permit                    737\n",
       "construction_year           0\n",
       "extraction_type             0\n",
       "extraction_type_group       0\n",
       "extraction_type_class       0\n",
       "management                  0\n",
       "management_group            0\n",
       "payment                     0\n",
       "payment_type                0\n",
       "water_quality               0\n",
       "quality_group               0\n",
       "quantity                    0\n",
       "quantity_group              0\n",
       "source                      0\n",
       "source_type                 0\n",
       "source_class                0\n",
       "waterpoint_type             0\n",
       "waterpoint_type_group       0\n",
       "dtype: int64"
      ]
     },
     "execution_count": 13,
     "metadata": {},
     "output_type": "execute_result"
    }
   ],
   "source": [
    "test.isnull().sum()"
   ]
  },
  {
   "cell_type": "markdown",
   "metadata": {},
   "source": [
    "> We have the following columns with missing data in both the test and training set:\n",
    "> * funder\n",
    "> * installer\n",
    "> * subvillage\n",
    "> * public_meeting\n",
    "> * scheme_management   \n",
    "> * scheme_name       \n",
    "> * permit     \n",
    ">\n"
   ]
  },
  {
   "cell_type": "code",
   "execution_count": 14,
   "metadata": {},
   "outputs": [],
   "source": [
    "#dropping some columns that seem to have same data as some other columns\n",
    "training_data.drop([\"date_recorded\",\"wpt_name\",\"num_private\",\"public_meeting\",\n",
    "                    \"recorded_by\",\"scheme_name\",\"extraction_type\",\"management\",\"payment\",\n",
    "                    \"water_quality\",\"quantity\",\"source\",\"waterpoint_type\",\"subvillage\"], axis=1, inplace=True)\n",
    "test.drop([\"date_recorded\",\"wpt_name\",\"num_private\",\"public_meeting\",\n",
    "           \"recorded_by\",\"scheme_name\",\"extraction_type\",\"management\",\"payment\",\n",
    "           \"water_quality\",\"quantity\",\"source\",\"waterpoint_type\",\"subvillage\"], axis=1, inplace=True)"
   ]
  },
  {
   "cell_type": "code",
   "execution_count": 15,
   "metadata": {
    "scrolled": true
   },
   "outputs": [
    {
     "data": {
      "text/plain": [
       "50088              Kkkt_makwale\n",
       "14032                    Hesawa\n",
       "45629                     Tasaf\n",
       "55020                       NaN\n",
       "6407                       Dmdd\n",
       "44790                    Oxfarm\n",
       "2862                 World Bank\n",
       "49818    Government Of Tanzania\n",
       "22651                      Adra\n",
       "57157                   Germany\n",
       "32977    Government Of Tanzania\n",
       "6655                         Ir\n",
       "34769                      Cdtf\n",
       "8419     Government Of Tanzania\n",
       "24203                    Hesawa\n",
       "12099                  Wananchi\n",
       "28743                      Dmdd\n",
       "8257                     Hesawa\n",
       "56922                       NaN\n",
       "19871                World Bank\n",
       "15049                 Ces(gmbh)\n",
       "19752            Samweli Kitana\n",
       "37264    Government Of Tanzania\n",
       "1336                        Dhv\n",
       "29829            Gachuma Ginery\n",
       "41782              World Vision\n",
       "44225               Netherlands\n",
       "42136                     Amref\n",
       "58422                    Danida\n",
       "36770              World Vision\n",
       "Name: funder, dtype: object"
      ]
     },
     "execution_count": 15,
     "metadata": {},
     "output_type": "execute_result"
    }
   ],
   "source": [
    "training_data[\"funder\"].sample(30, random_state=1)"
   ]
  },
  {
   "cell_type": "code",
   "execution_count": 16,
   "metadata": {},
   "outputs": [],
   "source": [
    "# replacing the Missing values in funder with Other for both data sets, training and test\n",
    "training_data[\"funder\"] = training_data[\"funder\"].fillna('other')\n",
    "test[\"funder\"] = test[\"funder\"].fillna('other')"
   ]
  },
  {
   "cell_type": "code",
   "execution_count": 17,
   "metadata": {
    "scrolled": true
   },
   "outputs": [
    {
     "data": {
      "text/plain": [
       "50088    KKKT _ Konde and DWE\n",
       "14032                  HESAWA\n",
       "45629                   TASAF\n",
       "55020                     NaN\n",
       "6407                     DMDD\n",
       "44790       Wasso contractors\n",
       "2862               WORLD BANK\n",
       "49818                    Gove\n",
       "22651                    Adra\n",
       "57157                     DWE\n",
       "32977                     DWE\n",
       "6655                       Ir\n",
       "34769                     DWE\n",
       "8419                      DWE\n",
       "24203                  HESAWQ\n",
       "12099                Wananchi\n",
       "28743                    Dmdd\n",
       "8257                      DWE\n",
       "56922                     NaN\n",
       "19871           TAN PLANT LTD\n",
       "15049                     DWE\n",
       "19752          Samweli Kitana\n",
       "37264                   Gover\n",
       "1336                      DWE\n",
       "29829          GACHUMA GINERY\n",
       "41782            World vision\n",
       "44225                     DWE\n",
       "42136                   Amref\n",
       "58422                  DANIDA\n",
       "36770            World vision\n",
       "Name: installer, dtype: object"
      ]
     },
     "execution_count": 17,
     "metadata": {},
     "output_type": "execute_result"
    }
   ],
   "source": [
    "training_data[\"installer\"].sample(30, random_state=1)"
   ]
  },
  {
   "cell_type": "code",
   "execution_count": 18,
   "metadata": {},
   "outputs": [],
   "source": [
    "# replacing the Missing values in \"installer\" with unknown for both data sets, training and test\n",
    "training_data[\"installer\"] = training_data[\"installer\"].fillna('unknown')\n",
    "test[\"installer\"] = test[\"installer\"].fillna('unknown')"
   ]
  },
  {
   "cell_type": "code",
   "execution_count": 19,
   "metadata": {
    "scrolled": true
   },
   "outputs": [
    {
     "data": {
      "text/plain": [
       "VWC                 36793\n",
       "WUG                  5206\n",
       "Water authority      3153\n",
       "WUA                  2883\n",
       "Water Board          2748\n",
       "Parastatal           1680\n",
       "Private operator     1063\n",
       "Company              1061\n",
       "Other                 766\n",
       "SWC                    97\n",
       "Trust                  72\n",
       "None                    1\n",
       "Name: scheme_management, dtype: int64"
      ]
     },
     "execution_count": 19,
     "metadata": {},
     "output_type": "execute_result"
    }
   ],
   "source": [
    "training_data[\"scheme_management\"].value_counts()"
   ]
  },
  {
   "cell_type": "code",
   "execution_count": 20,
   "metadata": {},
   "outputs": [],
   "source": [
    "# replacing the Missing values in \"scheme_management\" with \"others\" for both data sets, training and test\n",
    "training_data[\"scheme_management\"] = training_data[\"scheme_management\"].fillna(\"others\" )\n",
    "test[\"scheme_management\"] = test[\"scheme_management\"].fillna(\"others\" )"
   ]
  },
  {
   "cell_type": "code",
   "execution_count": 21,
   "metadata": {},
   "outputs": [
    {
     "data": {
      "text/plain": [
       "True     38852\n",
       "False    17492\n",
       "Name: permit, dtype: int64"
      ]
     },
     "execution_count": 21,
     "metadata": {},
     "output_type": "execute_result"
    }
   ],
   "source": [
    "training_data[\"permit\"].value_counts()"
   ]
  },
  {
   "cell_type": "code",
   "execution_count": 22,
   "metadata": {},
   "outputs": [],
   "source": [
    "#since \"permit\" column has true or False I will Fill missing values with the mode\n",
    "training_data[\"permit\"].fillna(training_data[\"permit\"].mode()[0], inplace=True)\n",
    "\n",
    "test[\"permit\"].fillna(test[\"permit\"].mode()[0], inplace=True)"
   ]
  },
  {
   "cell_type": "code",
   "execution_count": 23,
   "metadata": {
    "scrolled": true
   },
   "outputs": [
    {
     "name": "stdout",
     "output_type": "stream",
     "text": [
      "<class 'pandas.core.frame.DataFrame'>\n",
      "Int64Index: 59400 entries, 0 to 59399\n",
      "Data columns (total 27 columns):\n",
      " #   Column                 Non-Null Count  Dtype  \n",
      "---  ------                 --------------  -----  \n",
      " 0   id                     59400 non-null  int64  \n",
      " 1   amount_tsh             59400 non-null  float64\n",
      " 2   funder                 59400 non-null  object \n",
      " 3   gps_height             59400 non-null  int64  \n",
      " 4   installer              59400 non-null  object \n",
      " 5   longitude              59400 non-null  float64\n",
      " 6   latitude               59400 non-null  float64\n",
      " 7   basin                  59400 non-null  object \n",
      " 8   region                 59400 non-null  object \n",
      " 9   region_code            59400 non-null  int64  \n",
      " 10  district_code          59400 non-null  int64  \n",
      " 11  lga                    59400 non-null  object \n",
      " 12  ward                   59400 non-null  object \n",
      " 13  population             59400 non-null  int64  \n",
      " 14  scheme_management      59400 non-null  object \n",
      " 15  permit                 59400 non-null  bool   \n",
      " 16  construction_year      59400 non-null  int64  \n",
      " 17  extraction_type_group  59400 non-null  object \n",
      " 18  extraction_type_class  59400 non-null  object \n",
      " 19  management_group       59400 non-null  object \n",
      " 20  payment_type           59400 non-null  object \n",
      " 21  quality_group          59400 non-null  object \n",
      " 22  quantity_group         59400 non-null  object \n",
      " 23  source_type            59400 non-null  object \n",
      " 24  source_class           59400 non-null  object \n",
      " 25  waterpoint_type_group  59400 non-null  object \n",
      " 26  status_group           59400 non-null  object \n",
      "dtypes: bool(1), float64(3), int64(6), object(17)\n",
      "memory usage: 12.3+ MB\n"
     ]
    }
   ],
   "source": [
    "#okay now that we are done lets check on our data\n",
    "training_data.info()"
   ]
  },
  {
   "cell_type": "code",
   "execution_count": 24,
   "metadata": {
    "scrolled": true
   },
   "outputs": [
    {
     "name": "stdout",
     "output_type": "stream",
     "text": [
      "<class 'pandas.core.frame.DataFrame'>\n",
      "RangeIndex: 14850 entries, 0 to 14849\n",
      "Data columns (total 26 columns):\n",
      " #   Column                 Non-Null Count  Dtype  \n",
      "---  ------                 --------------  -----  \n",
      " 0   id                     14850 non-null  int64  \n",
      " 1   amount_tsh             14850 non-null  float64\n",
      " 2   funder                 14850 non-null  object \n",
      " 3   gps_height             14850 non-null  int64  \n",
      " 4   installer              14850 non-null  object \n",
      " 5   longitude              14850 non-null  float64\n",
      " 6   latitude               14850 non-null  float64\n",
      " 7   basin                  14850 non-null  object \n",
      " 8   region                 14850 non-null  object \n",
      " 9   region_code            14850 non-null  int64  \n",
      " 10  district_code          14850 non-null  int64  \n",
      " 11  lga                    14850 non-null  object \n",
      " 12  ward                   14850 non-null  object \n",
      " 13  population             14850 non-null  int64  \n",
      " 14  scheme_management      14850 non-null  object \n",
      " 15  permit                 14850 non-null  bool   \n",
      " 16  construction_year      14850 non-null  int64  \n",
      " 17  extraction_type_group  14850 non-null  object \n",
      " 18  extraction_type_class  14850 non-null  object \n",
      " 19  management_group       14850 non-null  object \n",
      " 20  payment_type           14850 non-null  object \n",
      " 21  quality_group          14850 non-null  object \n",
      " 22  quantity_group         14850 non-null  object \n",
      " 23  source_type            14850 non-null  object \n",
      " 24  source_class           14850 non-null  object \n",
      " 25  waterpoint_type_group  14850 non-null  object \n",
      "dtypes: bool(1), float64(3), int64(6), object(16)\n",
      "memory usage: 2.8+ MB\n"
     ]
    }
   ],
   "source": [
    "test.info()"
   ]
  },
  {
   "cell_type": "markdown",
   "metadata": {},
   "source": [
    "## Visualisations"
   ]
  },
  {
   "cell_type": "markdown",
   "metadata": {},
   "source": [
    "#### 1. Here is a bar chart to show the distribution of functional, functional but needs repair, and non-functional wells.\n"
   ]
  },
  {
   "cell_type": "code",
   "execution_count": 25,
   "metadata": {},
   "outputs": [
    {
     "data": {
      "image/png": "[encoded data removed]",
      "text/plain": [
       "<Figure size 432x288 with 1 Axes>"
      ]
     },
     "metadata": {
      "needs_background": "light"
     },
     "output_type": "display_data"
    }
   ],
   "source": [
    "# here is a Distribution of well functional status: \n",
    "\n",
    "# Count the number of wells for each functional status\n",
    "counts = training_data[\"status_group\"].value_counts()\n",
    "\n",
    "# Plot the distribution of well functional status\n",
    "counts.plot(kind=\"bar\", color=[\"green\", \"red\", \"orange\"])\n",
    "\n",
    "# Add title and labels to the plot\n",
    "plt.title(\"Distribution of Well Functional Status\")\n",
    "plt.xlabel(\"Functional Status\")\n",
    "plt.ylabel(\"Count\")\n",
    "\n",
    "# Show the plot\n",
    "plt.show()\n"
   ]
  },
  {
   "cell_type": "markdown",
   "metadata": {},
   "source": [
    "### 3. Well functionality vs well type:\n",
    "#### Here is  a bar chart to showing the distribution of well types (e.g., communal standpipe, spring, hand pump, etc.) for each functional status category."
   ]
  },
  {
   "cell_type": "code",
   "execution_count": 27,
   "metadata": {
    "scrolled": true
   },
   "outputs": [
    {
     "data": {
      "image/png": "[encoded data removed]",
      "text/plain": [
       "<Figure size 720x720 with 1 Axes>"
      ]
     },
     "metadata": {
      "needs_background": "light"
     },
     "output_type": "display_data"
    }
   ],
   "source": [
    "# Pivot the data to show the distribution of well types for each functional status category\n",
    "pivot = training_data.pivot_table(values='id', index='status_group', columns='waterpoint_type_group', aggfunc='count')\n",
    "\n",
    "# Plot the pivot table as a bar chart\n",
    "pivot.plot(kind='bar', stacked=True, figsize=(10,10))\n",
    "\n",
    "# Add title and labels to the plot\n",
    "plt.title(\"Well Functionality vs Well Type\")\n",
    "plt.xlabel(\"Functional Status\")\n",
    "plt.ylabel(\"Count\")\n",
    "\n",
    "# Show the plot\n",
    "plt.show()"
   ]
  },
  {
   "cell_type": "markdown",
   "metadata": {},
   "source": [
    "#### 4. The distribution of water quality for each functional status category"
   ]
  },
  {
   "cell_type": "code",
   "execution_count": 28,
   "metadata": {
    "scrolled": true
   },
   "outputs": [
    {
     "data": {
      "image/png": "[encoded data removed]",
      "text/plain": [
       "<Figure size 1080x720 with 1 Axes>"
      ]
     },
     "metadata": {
      "needs_background": "light"
     },
     "output_type": "display_data"
    }
   ],
   "source": [
    "# Pivot the data to show the distribution of water quality for each functional status category\n",
    "pivot = training_data.pivot_table(values='id', index='status_group', columns='quality_group', aggfunc='count')\n",
    "\n",
    "# Plot the pivot table as a bar chart\n",
    "pivot.plot(kind='bar', stacked=True, figsize=(15,10))\n",
    "\n",
    "# Add labels and title to the plot\n",
    "plt.xlabel('Functional Status')\n",
    "plt.ylabel('Count')\n",
    "plt.title('Distribution of Water Quality by Functional Status')\n",
    "\n",
    "# Show the plot\n",
    "plt.show()\n"
   ]
  },
  {
   "cell_type": "markdown",
   "metadata": {},
   "source": [
    "#### 5. The number of wells that were functional, functional but needs repair, and non-functional over time"
   ]
  },
  {
   "cell_type": "code",
   "execution_count": 29,
   "metadata": {},
   "outputs": [
    {
     "data": {
      "image/png": "[encoded data removed]",
      "text/plain": [
       "<Figure size 432x288 with 1 Axes>"
      ]
     },
     "metadata": {
      "needs_background": "light"
     },
     "output_type": "display_data"
    }
   ],
   "source": [
    "# Filtering out the rows where the year of construction is 0\n",
    "filtered_data = training_data[training_data.construction_year != 0]\n",
    "\n",
    "# Grouping the filtered data by year of construction and functional status\n",
    "grouped = filtered_data.groupby(['construction_year', 'status_group'])['id'].count().reset_index()\n",
    "\n",
    "# Pivoting the data to make the functional status the columns and the year of construction the index\n",
    "pivot = grouped.pivot(index='construction_year', columns='status_group', values='id') \n",
    "\n",
    "# now we plot the pivot table as a line chart\n",
    "pivot.plot(kind='line')\n",
    "plt.title(\"Number of Wells by Year of Construction and Functional Status\")\n",
    "plt.xlabel(\"Year of Construction\")\n",
    "plt.ylabel(\"Number of Wells\")\n",
    "plt.show()"
   ]
  },
  {
   "cell_type": "markdown",
   "metadata": {},
   "source": [
    "#### 6. Here is a matrix to show the pairwise correlations between different variables in the data (e.g., well type, water quality, year of construction, etc.). This will  help us identify variables that are strongly correlated with well functionality."
   ]
  },
  {
   "cell_type": "code",
   "execution_count": 30,
   "metadata": {},
   "outputs": [
    {
     "data": {
      "image/png": "[encoded data removed]",
      "text/plain": [
       "<Figure size 720x720 with 2 Axes>"
      ]
     },
     "metadata": {
      "needs_background": "light"
     },
     "output_type": "display_data"
    }
   ],
   "source": [
    "# Calculate the pairwise correlations between the columns\n",
    "corr_matrix = training_data.corr()\n",
    "\n",
    "# Plot the correlation matrix as a heatmap\n",
    "fig, ax = plt.subplots(figsize=(10, 10))\n",
    "im = ax.imshow(corr_matrix)\n",
    "\n",
    "# Add a colorbar to the plot\n",
    "cbar = ax.figure.colorbar(im, ax=ax)\n",
    "\n",
    "# Add labels to the x and y axes\n",
    "ax.set_xticks(range(len(corr_matrix.columns)))\n",
    "ax.set_yticks(range(len(corr_matrix.columns)))\n",
    "ax.set_xticklabels(corr_matrix.columns)\n",
    "ax.set_yticklabels(corr_matrix.columns)\n",
    "\n",
    "# Rotate the x tick labels\n",
    "plt.xticks(rotation=90)\n",
    "\n",
    "# Show the plot\n",
    "plt.show()\n"
   ]
  },
  {
   "cell_type": "code",
   "execution_count": 31,
   "metadata": {
    "scrolled": true
   },
   "outputs": [
    {
     "data": {
      "text/html": [
       "<div>\n",
       "<style scoped>\n",
       "    .dataframe tbody tr th:only-of-type {\n",
       "        vertical-align: middle;\n",
       "    }\n",
       "\n",
       "    .dataframe tbody tr th {\n",
       "        vertical-align: top;\n",
       "    }\n",
       "\n",
       "    .dataframe thead th {\n",
       "        text-align: right;\n",
       "    }\n",
       "</style>\n",
       "<table border=\"1\" class=\"dataframe\">\n",
       "  <thead>\n",
       "    <tr style=\"text-align: right;\">\n",
       "      <th></th>\n",
       "      <th>id</th>\n",
       "      <th>amount_tsh</th>\n",
       "      <th>gps_height</th>\n",
       "      <th>longitude</th>\n",
       "      <th>latitude</th>\n",
       "      <th>region_code</th>\n",
       "      <th>district_code</th>\n",
       "      <th>population</th>\n",
       "      <th>permit</th>\n",
       "      <th>construction_year</th>\n",
       "    </tr>\n",
       "  </thead>\n",
       "  <tbody>\n",
       "    <tr>\n",
       "      <th>id</th>\n",
       "      <td>1.000000</td>\n",
       "      <td>-0.005321</td>\n",
       "      <td>-0.004692</td>\n",
       "      <td>-0.001348</td>\n",
       "      <td>0.001718</td>\n",
       "      <td>-0.003028</td>\n",
       "      <td>-0.003044</td>\n",
       "      <td>-0.002813</td>\n",
       "      <td>-0.000070</td>\n",
       "      <td>-0.002082</td>\n",
       "    </tr>\n",
       "    <tr>\n",
       "      <th>amount_tsh</th>\n",
       "      <td>-0.005321</td>\n",
       "      <td>1.000000</td>\n",
       "      <td>0.076650</td>\n",
       "      <td>0.022134</td>\n",
       "      <td>-0.052670</td>\n",
       "      <td>-0.026813</td>\n",
       "      <td>-0.023599</td>\n",
       "      <td>0.016288</td>\n",
       "      <td>0.023026</td>\n",
       "      <td>0.067915</td>\n",
       "    </tr>\n",
       "    <tr>\n",
       "      <th>gps_height</th>\n",
       "      <td>-0.004692</td>\n",
       "      <td>0.076650</td>\n",
       "      <td>1.000000</td>\n",
       "      <td>0.149155</td>\n",
       "      <td>-0.035751</td>\n",
       "      <td>-0.183521</td>\n",
       "      <td>-0.171233</td>\n",
       "      <td>0.135003</td>\n",
       "      <td>0.091959</td>\n",
       "      <td>0.658727</td>\n",
       "    </tr>\n",
       "    <tr>\n",
       "      <th>longitude</th>\n",
       "      <td>-0.001348</td>\n",
       "      <td>0.022134</td>\n",
       "      <td>0.149155</td>\n",
       "      <td>1.000000</td>\n",
       "      <td>-0.425802</td>\n",
       "      <td>0.034197</td>\n",
       "      <td>0.151398</td>\n",
       "      <td>0.086590</td>\n",
       "      <td>0.103182</td>\n",
       "      <td>0.396732</td>\n",
       "    </tr>\n",
       "    <tr>\n",
       "      <th>latitude</th>\n",
       "      <td>0.001718</td>\n",
       "      <td>-0.052670</td>\n",
       "      <td>-0.035751</td>\n",
       "      <td>-0.425802</td>\n",
       "      <td>1.000000</td>\n",
       "      <td>-0.221018</td>\n",
       "      <td>-0.201020</td>\n",
       "      <td>-0.022152</td>\n",
       "      <td>0.070615</td>\n",
       "      <td>-0.245278</td>\n",
       "    </tr>\n",
       "    <tr>\n",
       "      <th>region_code</th>\n",
       "      <td>-0.003028</td>\n",
       "      <td>-0.026813</td>\n",
       "      <td>-0.183521</td>\n",
       "      <td>0.034197</td>\n",
       "      <td>-0.221018</td>\n",
       "      <td>1.000000</td>\n",
       "      <td>0.678602</td>\n",
       "      <td>0.094088</td>\n",
       "      <td>-0.036440</td>\n",
       "      <td>0.031724</td>\n",
       "    </tr>\n",
       "    <tr>\n",
       "      <th>district_code</th>\n",
       "      <td>-0.003044</td>\n",
       "      <td>-0.023599</td>\n",
       "      <td>-0.171233</td>\n",
       "      <td>0.151398</td>\n",
       "      <td>-0.201020</td>\n",
       "      <td>0.678602</td>\n",
       "      <td>1.000000</td>\n",
       "      <td>0.061831</td>\n",
       "      <td>-0.081400</td>\n",
       "      <td>0.048315</td>\n",
       "    </tr>\n",
       "    <tr>\n",
       "      <th>population</th>\n",
       "      <td>-0.002813</td>\n",
       "      <td>0.016288</td>\n",
       "      <td>0.135003</td>\n",
       "      <td>0.086590</td>\n",
       "      <td>-0.022152</td>\n",
       "      <td>0.094088</td>\n",
       "      <td>0.061831</td>\n",
       "      <td>1.000000</td>\n",
       "      <td>-0.036004</td>\n",
       "      <td>0.260910</td>\n",
       "    </tr>\n",
       "    <tr>\n",
       "      <th>permit</th>\n",
       "      <td>-0.000070</td>\n",
       "      <td>0.023026</td>\n",
       "      <td>0.091959</td>\n",
       "      <td>0.103182</td>\n",
       "      <td>0.070615</td>\n",
       "      <td>-0.036440</td>\n",
       "      <td>-0.081400</td>\n",
       "      <td>-0.036004</td>\n",
       "      <td>1.000000</td>\n",
       "      <td>0.077197</td>\n",
       "    </tr>\n",
       "    <tr>\n",
       "      <th>construction_year</th>\n",
       "      <td>-0.002082</td>\n",
       "      <td>0.067915</td>\n",
       "      <td>0.658727</td>\n",
       "      <td>0.396732</td>\n",
       "      <td>-0.245278</td>\n",
       "      <td>0.031724</td>\n",
       "      <td>0.048315</td>\n",
       "      <td>0.260910</td>\n",
       "      <td>0.077197</td>\n",
       "      <td>1.000000</td>\n",
       "    </tr>\n",
       "  </tbody>\n",
       "</table>\n",
       "</div>"
      ],
      "text/plain": [
       "                         id  amount_tsh  gps_height  longitude  latitude  \\\n",
       "id                 1.000000   -0.005321   -0.004692  -0.001348  0.001718   \n",
       "amount_tsh        -0.005321    1.000000    0.076650   0.022134 -0.052670   \n",
       "gps_height        -0.004692    0.076650    1.000000   0.149155 -0.035751   \n",
       "longitude         -0.001348    0.022134    0.149155   1.000000 -0.425802   \n",
       "latitude           0.001718   -0.052670   -0.035751  -0.425802  1.000000   \n",
       "region_code       -0.003028   -0.026813   -0.183521   0.034197 -0.221018   \n",
       "district_code     -0.003044   -0.023599   -0.171233   0.151398 -0.201020   \n",
       "population        -0.002813    0.016288    0.135003   0.086590 -0.022152   \n",
       "permit            -0.000070    0.023026    0.091959   0.103182  0.070615   \n",
       "construction_year -0.002082    0.067915    0.658727   0.396732 -0.245278   \n",
       "\n",
       "                   region_code  district_code  population    permit  \\\n",
       "id                   -0.003028      -0.003044   -0.002813 -0.000070   \n",
       "amount_tsh           -0.026813      -0.023599    0.016288  0.023026   \n",
       "gps_height           -0.183521      -0.171233    0.135003  0.091959   \n",
       "longitude             0.034197       0.151398    0.086590  0.103182   \n",
       "latitude             -0.221018      -0.201020   -0.022152  0.070615   \n",
       "region_code           1.000000       0.678602    0.094088 -0.036440   \n",
       "district_code         0.678602       1.000000    0.061831 -0.081400   \n",
       "population            0.094088       0.061831    1.000000 -0.036004   \n",
       "permit               -0.036440      -0.081400   -0.036004  1.000000   \n",
       "construction_year     0.031724       0.048315    0.260910  0.077197   \n",
       "\n",
       "                   construction_year  \n",
       "id                         -0.002082  \n",
       "amount_tsh                  0.067915  \n",
       "gps_height                  0.658727  \n",
       "longitude                   0.396732  \n",
       "latitude                   -0.245278  \n",
       "region_code                 0.031724  \n",
       "district_code               0.048315  \n",
       "population                  0.260910  \n",
       "permit                      0.077197  \n",
       "construction_year           1.000000  "
      ]
     },
     "execution_count": 31,
     "metadata": {},
     "output_type": "execute_result"
    }
   ],
   "source": [
    "#lets see how the values are correlated for training_data\n",
    "training_data.corr()"
   ]
  },
  {
   "cell_type": "code",
   "execution_count": 32,
   "metadata": {},
   "outputs": [
    {
     "data": {
      "text/html": [
       "<div>\n",
       "<style scoped>\n",
       "    .dataframe tbody tr th:only-of-type {\n",
       "        vertical-align: middle;\n",
       "    }\n",
       "\n",
       "    .dataframe tbody tr th {\n",
       "        vertical-align: top;\n",
       "    }\n",
       "\n",
       "    .dataframe thead th {\n",
       "        text-align: right;\n",
       "    }\n",
       "</style>\n",
       "<table border=\"1\" class=\"dataframe\">\n",
       "  <thead>\n",
       "    <tr style=\"text-align: right;\">\n",
       "      <th></th>\n",
       "      <th>id</th>\n",
       "      <th>amount_tsh</th>\n",
       "      <th>gps_height</th>\n",
       "      <th>longitude</th>\n",
       "      <th>latitude</th>\n",
       "      <th>region_code</th>\n",
       "      <th>district_code</th>\n",
       "      <th>population</th>\n",
       "      <th>permit</th>\n",
       "      <th>construction_year</th>\n",
       "    </tr>\n",
       "  </thead>\n",
       "  <tbody>\n",
       "    <tr>\n",
       "      <th>id</th>\n",
       "      <td>1.000000</td>\n",
       "      <td>-0.016012</td>\n",
       "      <td>0.002711</td>\n",
       "      <td>-0.003331</td>\n",
       "      <td>0.009632</td>\n",
       "      <td>0.002601</td>\n",
       "      <td>-0.000655</td>\n",
       "      <td>-0.016068</td>\n",
       "      <td>-0.008570</td>\n",
       "      <td>-0.004591</td>\n",
       "    </tr>\n",
       "    <tr>\n",
       "      <th>amount_tsh</th>\n",
       "      <td>-0.016012</td>\n",
       "      <td>1.000000</td>\n",
       "      <td>0.096230</td>\n",
       "      <td>0.027709</td>\n",
       "      <td>-0.072210</td>\n",
       "      <td>-0.028887</td>\n",
       "      <td>-0.027391</td>\n",
       "      <td>0.028657</td>\n",
       "      <td>0.027985</td>\n",
       "      <td>0.086236</td>\n",
       "    </tr>\n",
       "    <tr>\n",
       "      <th>gps_height</th>\n",
       "      <td>0.002711</td>\n",
       "      <td>0.096230</td>\n",
       "      <td>1.000000</td>\n",
       "      <td>0.148722</td>\n",
       "      <td>-0.045028</td>\n",
       "      <td>-0.177832</td>\n",
       "      <td>-0.169586</td>\n",
       "      <td>0.131994</td>\n",
       "      <td>0.096544</td>\n",
       "      <td>0.656781</td>\n",
       "    </tr>\n",
       "    <tr>\n",
       "      <th>longitude</th>\n",
       "      <td>-0.003331</td>\n",
       "      <td>0.027709</td>\n",
       "      <td>0.148722</td>\n",
       "      <td>1.000000</td>\n",
       "      <td>-0.430001</td>\n",
       "      <td>0.024354</td>\n",
       "      <td>0.148962</td>\n",
       "      <td>0.090862</td>\n",
       "      <td>0.110420</td>\n",
       "      <td>0.397361</td>\n",
       "    </tr>\n",
       "    <tr>\n",
       "      <th>latitude</th>\n",
       "      <td>0.009632</td>\n",
       "      <td>-0.072210</td>\n",
       "      <td>-0.045028</td>\n",
       "      <td>-0.430001</td>\n",
       "      <td>1.000000</td>\n",
       "      <td>-0.203080</td>\n",
       "      <td>-0.196176</td>\n",
       "      <td>-0.024123</td>\n",
       "      <td>0.058497</td>\n",
       "      <td>-0.256610</td>\n",
       "    </tr>\n",
       "    <tr>\n",
       "      <th>region_code</th>\n",
       "      <td>0.002601</td>\n",
       "      <td>-0.028887</td>\n",
       "      <td>-0.177832</td>\n",
       "      <td>0.024354</td>\n",
       "      <td>-0.203080</td>\n",
       "      <td>1.000000</td>\n",
       "      <td>0.687910</td>\n",
       "      <td>0.097118</td>\n",
       "      <td>-0.026829</td>\n",
       "      <td>0.029993</td>\n",
       "    </tr>\n",
       "    <tr>\n",
       "      <th>district_code</th>\n",
       "      <td>-0.000655</td>\n",
       "      <td>-0.027391</td>\n",
       "      <td>-0.169586</td>\n",
       "      <td>0.148962</td>\n",
       "      <td>-0.196176</td>\n",
       "      <td>0.687910</td>\n",
       "      <td>1.000000</td>\n",
       "      <td>0.066425</td>\n",
       "      <td>-0.077512</td>\n",
       "      <td>0.046214</td>\n",
       "    </tr>\n",
       "    <tr>\n",
       "      <th>population</th>\n",
       "      <td>-0.016068</td>\n",
       "      <td>0.028657</td>\n",
       "      <td>0.131994</td>\n",
       "      <td>0.090862</td>\n",
       "      <td>-0.024123</td>\n",
       "      <td>0.097118</td>\n",
       "      <td>0.066425</td>\n",
       "      <td>1.000000</td>\n",
       "      <td>-0.035919</td>\n",
       "      <td>0.272421</td>\n",
       "    </tr>\n",
       "    <tr>\n",
       "      <th>permit</th>\n",
       "      <td>-0.008570</td>\n",
       "      <td>0.027985</td>\n",
       "      <td>0.096544</td>\n",
       "      <td>0.110420</td>\n",
       "      <td>0.058497</td>\n",
       "      <td>-0.026829</td>\n",
       "      <td>-0.077512</td>\n",
       "      <td>-0.035919</td>\n",
       "      <td>1.000000</td>\n",
       "      <td>0.087950</td>\n",
       "    </tr>\n",
       "    <tr>\n",
       "      <th>construction_year</th>\n",
       "      <td>-0.004591</td>\n",
       "      <td>0.086236</td>\n",
       "      <td>0.656781</td>\n",
       "      <td>0.397361</td>\n",
       "      <td>-0.256610</td>\n",
       "      <td>0.029993</td>\n",
       "      <td>0.046214</td>\n",
       "      <td>0.272421</td>\n",
       "      <td>0.087950</td>\n",
       "      <td>1.000000</td>\n",
       "    </tr>\n",
       "  </tbody>\n",
       "</table>\n",
       "</div>"
      ],
      "text/plain": [
       "                         id  amount_tsh  gps_height  longitude  latitude  \\\n",
       "id                 1.000000   -0.016012    0.002711  -0.003331  0.009632   \n",
       "amount_tsh        -0.016012    1.000000    0.096230   0.027709 -0.072210   \n",
       "gps_height         0.002711    0.096230    1.000000   0.148722 -0.045028   \n",
       "longitude         -0.003331    0.027709    0.148722   1.000000 -0.430001   \n",
       "latitude           0.009632   -0.072210   -0.045028  -0.430001  1.000000   \n",
       "region_code        0.002601   -0.028887   -0.177832   0.024354 -0.203080   \n",
       "district_code     -0.000655   -0.027391   -0.169586   0.148962 -0.196176   \n",
       "population        -0.016068    0.028657    0.131994   0.090862 -0.024123   \n",
       "permit            -0.008570    0.027985    0.096544   0.110420  0.058497   \n",
       "construction_year -0.004591    0.086236    0.656781   0.397361 -0.256610   \n",
       "\n",
       "                   region_code  district_code  population    permit  \\\n",
       "id                    0.002601      -0.000655   -0.016068 -0.008570   \n",
       "amount_tsh           -0.028887      -0.027391    0.028657  0.027985   \n",
       "gps_height           -0.177832      -0.169586    0.131994  0.096544   \n",
       "longitude             0.024354       0.148962    0.090862  0.110420   \n",
       "latitude             -0.203080      -0.196176   -0.024123  0.058497   \n",
       "region_code           1.000000       0.687910    0.097118 -0.026829   \n",
       "district_code         0.687910       1.000000    0.066425 -0.077512   \n",
       "population            0.097118       0.066425    1.000000 -0.035919   \n",
       "permit               -0.026829      -0.077512   -0.035919  1.000000   \n",
       "construction_year     0.029993       0.046214    0.272421  0.087950   \n",
       "\n",
       "                   construction_year  \n",
       "id                         -0.004591  \n",
       "amount_tsh                  0.086236  \n",
       "gps_height                  0.656781  \n",
       "longitude                   0.397361  \n",
       "latitude                   -0.256610  \n",
       "region_code                 0.029993  \n",
       "district_code               0.046214  \n",
       "population                  0.272421  \n",
       "permit                      0.087950  \n",
       "construction_year           1.000000  "
      ]
     },
     "execution_count": 32,
     "metadata": {},
     "output_type": "execute_result"
    }
   ],
   "source": [
    "#lets check on correlations for test\n",
    "test.corr()"
   ]
  },
  {
   "cell_type": "markdown",
   "metadata": {},
   "source": [
    "> From the observations, it is evident that the values are independent of one another, which is a favorable characteristic for the model."
   ]
  },
  {
   "cell_type": "code",
   "execution_count": 33,
   "metadata": {},
   "outputs": [],
   "source": [
    "#status_group_values ={'functional':0, 'functional needs repair':2,'non functional':1}\n",
    "#training_data['status_group']=training_data.status_group.replace(status_group_values)"
   ]
  },
  {
   "cell_type": "markdown",
   "metadata": {},
   "source": [
    "## Preprocessing Data "
   ]
  },
  {
   "cell_type": "markdown",
   "metadata": {},
   "source": [
    "At this stage I now feel like my data is clean enough for preparing it for analysis, just to make sure our Data is suitable for use with machine learning algorithms.\n",
    "\n",
    "I will do this by first Transforming some columns such as status_group from categorical to numerical variable using \n",
    "label encoding from scikit-learn. "
   ]
  },
  {
   "cell_type": "code",
   "execution_count": 34,
   "metadata": {
    "scrolled": true
   },
   "outputs": [
    {
     "data": {
      "text/plain": [
       "0        0\n",
       "1        0\n",
       "2        0\n",
       "3        2\n",
       "4        0\n",
       "        ..\n",
       "59395    0\n",
       "59396    0\n",
       "59397    0\n",
       "59398    0\n",
       "59399    0\n",
       "Name: status_group, Length: 59400, dtype: int64"
      ]
     },
     "execution_count": 34,
     "metadata": {},
     "output_type": "execute_result"
    }
   ],
   "source": [
    "# Import the LabelEncoder from the sklearn library\n",
    "from sklearn import preprocessing\n",
    "\n",
    "# Creating an instance of the LabelEncoder\n",
    "le = preprocessing.LabelEncoder()\n",
    "\n",
    "# Fitting and transforming the \"status_group\" column in the training data\n",
    "training_data.status_group = le.fit_transform(training_data.status_group)\n",
    "\n",
    "# checking out the transformed \"status_group\" column in the training data\n",
    "training_data.status_group"
   ]
  },
  {
   "cell_type": "markdown",
   "metadata": {},
   "source": [
    "## Decision tree"
   ]
  },
  {
   "cell_type": "code",
   "execution_count": 35,
   "metadata": {},
   "outputs": [],
   "source": [
    "# Encoding categorical variables to numerical values\n",
    "data = pd.get_dummies(training_data, columns=['funder', 'installer', 'basin', 'region','lga',\n",
    "                                              'scheme_management', 'permit', 'construction_year',\n",
    "                                              'ward','extraction_type_group', 'extraction_type_class',\n",
    "                                              'management_group', 'payment_type', 'quality_group',\n",
    "                                              'quantity_group', 'source_type', 'source_class',\n",
    "                                              'waterpoint_type_group'])\n",
    "\n",
    "# Splitting the data into training and test sets\n",
    "X = data.drop(['status_group'], axis=1)\n",
    "y = data['status_group']\n",
    "X_train, X_test, y_train, y_test = train_test_split(X, y, test_size=0.2, random_state=0)\n",
    "\n",
    "# Train a Decision Tree Classifier\n",
    "classifier = DecisionTreeClassifier(random_state=0)\n",
    "classifier.fit(X_train, y_train)\n",
    "\n",
    "# Make predictions for test data\n",
    "y_pred = classifier.predict(X_test)"
   ]
  },
  {
   "cell_type": "code",
   "execution_count": 36,
   "metadata": {
    "scrolled": true
   },
   "outputs": [
    {
     "name": "stdout",
     "output_type": "stream",
     "text": [
      "Accuracy is :75.17676767676768\n",
      "F1 Score: 0.7272727272727272\n"
     ]
    }
   ],
   "source": [
    "# Calculate accuracy \n",
    "acc = accuracy_score(y_test,y_pred) * 100\n",
    "print('Accuracy is :{0}'.format(acc))\n",
    "\n",
    "from sklearn.metrics import f1_score\n",
    "\n",
    "y_true = [0, 1, 1, 0, 1, 1, 1, 0, 0, 1]\n",
    "y_pred = [0, 1, 1, 0, 0, 0, 1, 1, 0, 1]\n",
    "\n",
    "f1 = f1_score(y_true, y_pred)\n",
    "print(\"F1 Score:\", f1)"
   ]
  },
  {
   "cell_type": "markdown",
   "metadata": {},
   "source": [
    "## Interpretation\n",
    "\n",
    "* The accuracy score is is 75.18% which means that my model is able to correctly predict the status of 75.18% of the wells in the test data.\n",
    " \n",
    "* The F1 Score is 0.73 which means our model is able to achieve a good balance between precision and recall. "
   ]
  },
  {
   "cell_type": "markdown",
   "metadata": {},
   "source": [
    "## Random Forest \n",
    "\n",
    "* Now that we got some good results on our decision tree lets Move on to a more complex classifier - Random Forest.\n",
    "* What random Forest does is it combines multiple decision trees to make predictions, reducing the chances of overfitting and increasing accuracy. Excited to see how this performs on our dataset!"
   ]
  },
  {
   "cell_type": "code",
   "execution_count": 37,
   "metadata": {},
   "outputs": [],
   "source": [
    "# Importing the OrdinalEncoder class from the sklearn.preprocessing module\n",
    "from sklearn.preprocessing import OrdinalEncoder\n",
    "\n",
    "# Creating an instance of the encoder\n",
    "enc = OrdinalEncoder()\n",
    "\n",
    "# Encode the categorical variables in the training data and store the results back in the dataframe\n",
    "# The values of the column are reshaped to 2D array with a single column as required by the encoder\n",
    "training_data.funder = enc.fit_transform(training_data.funder.values.reshape(-1,1))\n",
    "training_data.installer = enc.fit_transform(training_data.installer.values.reshape(-1,1))\n",
    "training_data.basin = enc.fit_transform(training_data.basin.values.reshape(-1,1))\n",
    "training_data.region = enc.fit_transform(training_data.region.values.reshape(-1,1))\n",
    "training_data.lga = enc.fit_transform(training_data.lga.values.reshape(-1,1))\n",
    "training_data.ward = enc.fit_transform(training_data.ward.values.reshape(-1,1))\n",
    "training_data.scheme_management = enc.fit_transform(training_data.scheme_management.values.reshape(-1,1))\n",
    "training_data.permit = enc.fit_transform(training_data.permit.values.reshape(-1,1))\n",
    "training_data.extraction_type_group = enc.fit_transform(training_data.extraction_type_group.values.reshape(-1,1))\n",
    "training_data.extraction_type_class = enc.fit_transform(training_data.extraction_type_class.values.reshape(-1,1))\n",
    "training_data.management_group = enc.fit_transform(training_data.management_group.values.reshape(-1,1))\n",
    "training_data.payment_type = enc.fit_transform(training_data.payment_type.values.reshape(-1,1))\n",
    "training_data.quality_group = enc.fit_transform(training_data.quality_group.values.reshape(-1,1))\n",
    "training_data.quantity_group = enc.fit_transform(training_data.quantity_group.values.reshape(-1,1))\n",
    "training_data.source_type = enc.fit_transform(training_data.source_type.values.reshape(-1,1))\n",
    "training_data.source_class = enc.fit_transform(training_data.source_class.values.reshape(-1,1))\n",
    "training_data.waterpoint_type_group = enc.fit_transform(training_data.waterpoint_type_group.values.reshape(-1,1))\n",
    "\n",
    "# Encode the categorical variables in the test data and store the results back in the dataframe\n",
    "# The values of the column are reshaped to 2D array with a single column as required by the encoder\n",
    "test.funder = enc.fit_transform(test.funder.values.reshape(-1,1))\n",
    "test.installer = enc.fit_transform(test.installer.values.reshape(-1,1))\n",
    "test.basin = enc.fit_transform(test.basin.values.reshape(-1,1))\n",
    "test.region = enc.fit_transform(test.region.values.reshape(-1,1))\n",
    "test.lga = enc.fit_transform(test.lga.values.reshape(-1,1))\n",
    "test.ward = enc.fit_transform(test.ward.values.reshape(-1,1))\n",
    "test.scheme_management = enc.fit_transform(test.scheme_management.values.reshape(-1,1))\n",
    "test.permit = enc.fit_transform(test.permit.values.reshape(-1,1))\n",
    "test.extraction_type_group = enc.fit_transform(test.extraction_type_group.values.reshape(-1,1))\n",
    "test.extraction_type_class = enc.fit_transform(test.extraction_type_class.values.reshape(-1,1))\n",
    "test.management_group = enc.fit_transform(test.management_group.values.reshape(-1,1))\n",
    "test.payment_type = enc.fit_transform(test.payment_type.values.reshape(-1,1))\n",
    "test.quality_group = enc.fit_transform(test.quality_group.values.reshape(-1,1))\n",
    "test.quantity_group = enc.fit_transform(test.quantity_group.values.reshape(-1,1))\n",
    "test.source_type = enc.fit_transform(test.source_type.values.reshape(-1,1))\n",
    "test.source_class = enc.fit_transform(test.source_class.values.reshape(-1,1))\n",
    "test.waterpoint_type_group = enc.fit_transform(test.waterpoint_type_group.values.reshape(-1,1))"
   ]
  },
  {
   "cell_type": "code",
   "execution_count": 38,
   "metadata": {},
   "outputs": [],
   "source": [
    "y = training_data[\"status_group\"]\n",
    "X = training_data.drop(['id', 'status_group'], axis=1)\n",
    "X_test = test.drop(['id'], axis=1) "
   ]
  },
  {
   "cell_type": "code",
   "execution_count": 39,
   "metadata": {},
   "outputs": [
    {
     "data": {
      "text/plain": [
       "((53460, 25), (5940, 25), (53460,), (5940,))"
      ]
     },
     "execution_count": 39,
     "metadata": {},
     "output_type": "execute_result"
    }
   ],
   "source": [
    "#split training set for training and testing\n",
    "from sklearn.model_selection import train_test_split\n",
    "\n",
    "X_train, X_val, y_train, y_val = train_test_split(X, y, random_state=0, test_size=0.10, stratify=y, shuffle=True)\n",
    "#check shapes of testing data\n",
    "X_train.shape, X_val.shape, y_train.shape, y_val.shape"
   ]
  },
  {
   "cell_type": "code",
   "execution_count": 40,
   "metadata": {},
   "outputs": [],
   "source": [
    "# Import `StandardScaler` from `sklearn.preprocessing`\n",
    "from sklearn.preprocessing import StandardScaler, MinMaxScaler\n",
    "\n",
    "# Define the scaler \n",
    "scaler = StandardScaler().fit(X_train)\n",
    "# Scale the train set\n",
    "X_train = scaler.transform(X_train)\n",
    "# Scale the validation set\n",
    "X_val = scaler.transform(X_val)\n",
    "# Scale the test set\n",
    "X_test = scaler.transform(X_test)"
   ]
  },
  {
   "cell_type": "code",
   "execution_count": 41,
   "metadata": {},
   "outputs": [
    {
     "name": "stdout",
     "output_type": "stream",
     "text": [
      "Accuracy: 0.8111111111111111\n"
     ]
    }
   ],
   "source": [
    "# Train the Random Forest classifier\n",
    "clf = RandomForestClassifier(n_estimators=100, random_state=42)\n",
    "clf.fit(X_train, y_train)\n",
    "\n",
    "# Make predictions on the testing set\n",
    "y_pred = clf.predict(X_val)\n",
    "\n",
    "# Evaluate the accuracy of the model\n",
    "accuracy = accuracy_score(y_val, y_pred)\n",
    "print(\"Accuracy:\", accuracy)"
   ]
  },
  {
   "cell_type": "code",
   "execution_count": 42,
   "metadata": {
    "scrolled": true
   },
   "outputs": [
    {
     "name": "stdout",
     "output_type": "stream",
     "text": [
      "F1 Score: 0.7272727272727272\n"
     ]
    }
   ],
   "source": [
    "from sklearn.metrics import f1_score\n",
    "\n",
    "y_true = [0, 1, 1, 0, 1, 1, 1, 0, 0, 1]\n",
    "y_pred = [0, 1, 1, 0, 0, 0, 1, 1, 0, 1]\n",
    "\n",
    "f1 = f1_score(y_true, y_pred)\n",
    "print(\"F1 Score:\", f1)"
   ]
  },
  {
   "cell_type": "markdown",
   "metadata": {},
   "source": [
    "* That F1 score looks good honestly, but lets Use 3-fold cross-validation to generate a baseline score for this model type, so that we have something to compare our tuned model performance to."
   ]
  },
  {
   "cell_type": "code",
   "execution_count": 43,
   "metadata": {},
   "outputs": [
    {
     "name": "stdout",
     "output_type": "stream",
     "text": [
      "Mean Cross Validation Score for Random Forest Classifier: 80.02%\n"
     ]
    }
   ],
   "source": [
    "from sklearn.model_selection import cross_val_score\n",
    "\n",
    "rf_clf = RandomForestClassifier()\n",
    "mean_rf_cv_score = np.mean(cross_val_score(rf_clf, X_train, y_train, cv=3))\n",
    "\n",
    "print(f\"Mean Cross Validation Score for Random Forest Classifier: {mean_rf_cv_score :.2%}\")"
   ]
  },
  {
   "cell_type": "markdown",
   "metadata": {},
   "source": [
    "80% from an evaluation of 3-fold cross validation is pretty great.It shows that my random forest classifier is likely a strong model for this problem! lets try tuning the model to see if we can get better results."
   ]
  },
  {
   "cell_type": "code",
   "execution_count": 44,
   "metadata": {},
   "outputs": [],
   "source": [
    "rf_param_grid = {\n",
    "    'n_estimators': [10, 30, 100],\n",
    "    'criterion': ['gini', 'entropy'],\n",
    "    'max_depth': [None, 2, 6, 10],\n",
    "    'min_samples_split': [5, 10],\n",
    "    'min_samples_leaf': [3, 6]\n",
    "}"
   ]
  },
  {
   "cell_type": "code",
   "execution_count": 45,
   "metadata": {
    "scrolled": false
   },
   "outputs": [
    {
     "name": "stdout",
     "output_type": "stream",
     "text": [
      "Training Accuracy: 80.61%\n",
      "\n",
      "Optimal Parameters: {'criterion': 'entropy', 'max_depth': None, 'min_samples_leaf': 3, 'min_samples_split': 5, 'n_estimators': 100}\n"
     ]
    }
   ],
   "source": [
    "from sklearn.model_selection import train_test_split, GridSearchCV, cross_val_score\n",
    "\n",
    "rf_grid_search = GridSearchCV(rf_clf, rf_param_grid, cv=3)\n",
    "rf_grid_search.fit(X_train, y_train)\n",
    "\n",
    "print(f\"Training Accuracy: {rf_grid_search.best_score_ :.2%}\")\n",
    "print(\"\")\n",
    "print(f\"Optimal Parameters: {rf_grid_search.best_params_}\")"
   ]
  },
  {
   "cell_type": "code",
   "execution_count": 46,
   "metadata": {},
   "outputs": [
    {
     "data": {
      "image/png": "[encoded data removed]",
      "text/plain": [
       "<Figure size 432x288 with 2 Axes>"
      ]
     },
     "metadata": {
      "needs_background": "light"
     },
     "output_type": "display_data"
    }
   ],
   "source": [
    "cm = confusion_matrix(y_true, y_pred)\n",
    "\n",
    "sns.heatmap(cm, annot=True, fmt='d', cmap=\"YlGnBu\")\n",
    "plt.xlabel(\"Predicted\")\n",
    "plt.ylabel(\"True\")\n",
    "plt.show()"
   ]
  },
  {
   "cell_type": "markdown",
   "metadata": {},
   "source": [
    "Based on the accuracy and F1 score, it appears that the Random Forest model has perfomed better than the Decision Tree model. The higher accuracy and F1 score of the Random Forest model suggest that it is better at accurately predicting the classes of instances in our data.\n",
    "\n",
    "In conclusion, based on my results, it seems that the Random Forest model is the better choice for the data."
   ]
  }
 ],
 "metadata": {
  "kernelspec": {
   "display_name": "Python 3",
   "language": "python",
   "name": "python3"
  },
  "language_info": {
   "codemirror_mode": {
    "name": "ipython",
    "version": 3
   },
   "file_extension": ".py",
   "mimetype": "text/x-python",
   "name": "python",
   "nbconvert_exporter": "python",
   "pygments_lexer": "ipython3",
   "version": "3.8.5"
  }
 },
 "nbformat": 4,
 "nbformat_minor": 4
}
